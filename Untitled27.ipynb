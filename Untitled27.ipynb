{
 "cells": [
  {
   "cell_type": "code",
   "execution_count": 1,
   "id": "ee3f58fe",
   "metadata": {},
   "outputs": [],
   "source": [
    "import pandas as pd\n",
    "from sklearn.model_selection import train_test_split\n",
    "from sklearn.preprocessing import LabelEncoder\n",
    "from sklearn.naive_bayes import GaussianNB\n",
    "from sklearn.ensemble import RandomForestClassifier\n",
    "from sklearn.tree import DecisionTreeClassifier\n",
    "from sklearn.linear_model import LogisticRegression\n",
    "from xgboost import XGBClassifier\n",
    "from sklearn.svm import SVC\n",
    "from sklearn.metrics import accuracy_score\n",
    "import matplotlib.pyplot as plt\n",
    "import pickle"
   ]
  },
  {
   "cell_type": "code",
   "execution_count": 2,
   "id": "8fb77b0f",
   "metadata": {},
   "outputs": [
    {
     "name": "stdout",
     "output_type": "stream",
     "text": [
      "    N   P   K  temperature   humidity        ph    rainfall label\n",
      "0  90  42  43    20.879744  82.002744  6.502985  202.935536  rice\n",
      "1  85  58  41    21.770462  80.319644  7.038096  226.655537  rice\n",
      "2  60  55  44    23.004459  82.320763  7.840207  263.964248  rice\n",
      "3  74  35  40    26.491096  80.158363  6.980401  242.864034  rice\n",
      "4  78  42  42    20.130175  81.604873  7.628473  262.717340  rice\n"
     ]
    }
   ],
   "source": [
    "data=pd.read_csv(\"C:\\\\Users\\\\Naresh\\\\Downloads\\\\Crop_recommendation.csv\")\n",
    "print(data.head())"
   ]
  },
  {
   "cell_type": "code",
   "execution_count": 3,
   "id": "585324f4",
   "metadata": {},
   "outputs": [
    {
     "data": {
      "text/plain": [
       "N              0\n",
       "P              0\n",
       "K              0\n",
       "temperature    0\n",
       "humidity       0\n",
       "ph             0\n",
       "rainfall       0\n",
       "label          0\n",
       "dtype: int64"
      ]
     },
     "execution_count": 3,
     "metadata": {},
     "output_type": "execute_result"
    }
   ],
   "source": [
    "data.isnull().sum()"
   ]
  },
  {
   "cell_type": "code",
   "execution_count": 4,
   "id": "aae82b2b",
   "metadata": {},
   "outputs": [
    {
     "data": {
      "text/plain": [
       "N                int64\n",
       "P                int64\n",
       "K                int64\n",
       "temperature    float64\n",
       "humidity       float64\n",
       "ph             float64\n",
       "rainfall       float64\n",
       "label           object\n",
       "dtype: object"
      ]
     },
     "execution_count": 4,
     "metadata": {},
     "output_type": "execute_result"
    }
   ],
   "source": [
    "data.dtypes"
   ]
  },
  {
   "cell_type": "code",
   "execution_count": 5,
   "id": "da48eb11",
   "metadata": {},
   "outputs": [
    {
     "data": {
      "text/plain": [
       "array(['rice', 'maize', 'chickpea', 'kidneybeans', 'pigeonpeas',\n",
       "       'mothbeans', 'mungbean', 'blackgram', 'lentil', 'pomegranate',\n",
       "       'banana', 'mango', 'grapes', 'watermelon', 'muskmelon', 'apple',\n",
       "       'orange', 'papaya', 'coconut', 'cotton', 'jute', 'coffee'],\n",
       "      dtype=object)"
      ]
     },
     "execution_count": 5,
     "metadata": {},
     "output_type": "execute_result"
    }
   ],
   "source": [
    "data['label'].unique()"
   ]
  },
  {
   "cell_type": "code",
   "execution_count": 6,
   "id": "d2ab71dc",
   "metadata": {},
   "outputs": [
    {
     "name": "stdout",
     "output_type": "stream",
     "text": [
      "        N   P   K  temperature   humidity        ph   rainfall   label\n",
      "1900  133  47  24    24.402289  79.197320  7.231325  90.802236  cotton\n",
      "1901  136  36  20    23.095956  84.862757  6.925412  71.295811  cotton\n",
      "1902  104  47  18    23.965635  76.976967  7.633437  90.756167  cotton\n",
      "1903  133  47  23    24.887381  75.621372  6.827355  89.760504  cotton\n",
      "1904  126  38  23    25.362438  83.632761  6.176716  88.436189  cotton\n",
      "...   ...  ..  ..          ...        ...       ...        ...     ...\n",
      "1995  113  38  20    22.107190  78.583201  6.364730  74.941366  cotton\n",
      "1996  102  53  21    23.038140  76.110215  6.913679  91.496975  cotton\n",
      "1997  110  39  18    24.547953  75.397527  7.766260  63.880799  cotton\n",
      "1998  107  58  15    23.738680  75.775038  7.556064  76.636692  cotton\n",
      "1999  120  60  15    22.318719  83.861300  7.288377  65.357470  cotton\n",
      "\n",
      "[100 rows x 8 columns]\n"
     ]
    }
   ],
   "source": [
    "cotton_rows = data[data['label'] == 'cotton']\n",
    "print(cotton_rows)"
   ]
  },
  {
   "cell_type": "code",
   "execution_count": 7,
   "id": "cb4ffc34",
   "metadata": {},
   "outputs": [],
   "source": [
    "# Separate features (X) and label (y)\n",
    "X = data.drop('label', axis=1)\n",
    "y = data['label']"
   ]
  },
  {
   "cell_type": "code",
   "execution_count": 8,
   "id": "f88d5e02",
   "metadata": {},
   "outputs": [],
   "source": [
    "# Convert categorical variables to numerical using Label Encoding\n",
    "label_encoder = LabelEncoder()\n",
    "y = label_encoder.fit_transform(y)\n",
    "\n",
    "# Split the dataset into training and testing sets\n",
    "X_train, X_test, y_train, y_test = train_test_split(X, y, test_size=0.2, random_state=42)"
   ]
  },
  {
   "cell_type": "code",
   "execution_count": 9,
   "id": "6257ab03",
   "metadata": {},
   "outputs": [],
   "source": [
    "# Initialize models\n",
    "naive_bayes = GaussianNB()\n",
    "random_forest = RandomForestClassifier()\n",
    "decision_tree = DecisionTreeClassifier()\n",
    "logistic_regression = LogisticRegression()\n",
    "xgboost_model = XGBClassifier()\n",
    "svm_model = SVC()"
   ]
  },
  {
   "cell_type": "code",
   "execution_count": 10,
   "id": "79a70e90",
   "metadata": {},
   "outputs": [
    {
     "name": "stderr",
     "output_type": "stream",
     "text": [
      "C:\\ProgramData\\anaconda3\\Lib\\site-packages\\sklearn\\linear_model\\_logistic.py:460: ConvergenceWarning: lbfgs failed to converge (status=1):\n",
      "STOP: TOTAL NO. of ITERATIONS REACHED LIMIT.\n",
      "\n",
      "Increase the number of iterations (max_iter) or scale the data as shown in:\n",
      "    https://scikit-learn.org/stable/modules/preprocessing.html\n",
      "Please also refer to the documentation for alternative solver options:\n",
      "    https://scikit-learn.org/stable/modules/linear_model.html#logistic-regression\n",
      "  n_iter_i = _check_optimize_result(\n"
     ]
    },
    {
     "data": {
      "text/html": [
       "<style>#sk-container-id-1 {color: black;}#sk-container-id-1 pre{padding: 0;}#sk-container-id-1 div.sk-toggleable {background-color: white;}#sk-container-id-1 label.sk-toggleable__label {cursor: pointer;display: block;width: 100%;margin-bottom: 0;padding: 0.3em;box-sizing: border-box;text-align: center;}#sk-container-id-1 label.sk-toggleable__label-arrow:before {content: \"▸\";float: left;margin-right: 0.25em;color: #696969;}#sk-container-id-1 label.sk-toggleable__label-arrow:hover:before {color: black;}#sk-container-id-1 div.sk-estimator:hover label.sk-toggleable__label-arrow:before {color: black;}#sk-container-id-1 div.sk-toggleable__content {max-height: 0;max-width: 0;overflow: hidden;text-align: left;background-color: #f0f8ff;}#sk-container-id-1 div.sk-toggleable__content pre {margin: 0.2em;color: black;border-radius: 0.25em;background-color: #f0f8ff;}#sk-container-id-1 input.sk-toggleable__control:checked~div.sk-toggleable__content {max-height: 200px;max-width: 100%;overflow: auto;}#sk-container-id-1 input.sk-toggleable__control:checked~label.sk-toggleable__label-arrow:before {content: \"▾\";}#sk-container-id-1 div.sk-estimator input.sk-toggleable__control:checked~label.sk-toggleable__label {background-color: #d4ebff;}#sk-container-id-1 div.sk-label input.sk-toggleable__control:checked~label.sk-toggleable__label {background-color: #d4ebff;}#sk-container-id-1 input.sk-hidden--visually {border: 0;clip: rect(1px 1px 1px 1px);clip: rect(1px, 1px, 1px, 1px);height: 1px;margin: -1px;overflow: hidden;padding: 0;position: absolute;width: 1px;}#sk-container-id-1 div.sk-estimator {font-family: monospace;background-color: #f0f8ff;border: 1px dotted black;border-radius: 0.25em;box-sizing: border-box;margin-bottom: 0.5em;}#sk-container-id-1 div.sk-estimator:hover {background-color: #d4ebff;}#sk-container-id-1 div.sk-parallel-item::after {content: \"\";width: 100%;border-bottom: 1px solid gray;flex-grow: 1;}#sk-container-id-1 div.sk-label:hover label.sk-toggleable__label {background-color: #d4ebff;}#sk-container-id-1 div.sk-serial::before {content: \"\";position: absolute;border-left: 1px solid gray;box-sizing: border-box;top: 0;bottom: 0;left: 50%;z-index: 0;}#sk-container-id-1 div.sk-serial {display: flex;flex-direction: column;align-items: center;background-color: white;padding-right: 0.2em;padding-left: 0.2em;position: relative;}#sk-container-id-1 div.sk-item {position: relative;z-index: 1;}#sk-container-id-1 div.sk-parallel {display: flex;align-items: stretch;justify-content: center;background-color: white;position: relative;}#sk-container-id-1 div.sk-item::before, #sk-container-id-1 div.sk-parallel-item::before {content: \"\";position: absolute;border-left: 1px solid gray;box-sizing: border-box;top: 0;bottom: 0;left: 50%;z-index: -1;}#sk-container-id-1 div.sk-parallel-item {display: flex;flex-direction: column;z-index: 1;position: relative;background-color: white;}#sk-container-id-1 div.sk-parallel-item:first-child::after {align-self: flex-end;width: 50%;}#sk-container-id-1 div.sk-parallel-item:last-child::after {align-self: flex-start;width: 50%;}#sk-container-id-1 div.sk-parallel-item:only-child::after {width: 0;}#sk-container-id-1 div.sk-dashed-wrapped {border: 1px dashed gray;margin: 0 0.4em 0.5em 0.4em;box-sizing: border-box;padding-bottom: 0.4em;background-color: white;}#sk-container-id-1 div.sk-label label {font-family: monospace;font-weight: bold;display: inline-block;line-height: 1.2em;}#sk-container-id-1 div.sk-label-container {text-align: center;}#sk-container-id-1 div.sk-container {/* jupyter's `normalize.less` sets `[hidden] { display: none; }` but bootstrap.min.css set `[hidden] { display: none !important; }` so we also need the `!important` here to be able to override the default hidden behavior on the sphinx rendered scikit-learn.org. See: https://github.com/scikit-learn/scikit-learn/issues/21755 */display: inline-block !important;position: relative;}#sk-container-id-1 div.sk-text-repr-fallback {display: none;}</style><div id=\"sk-container-id-1\" class=\"sk-top-container\"><div class=\"sk-text-repr-fallback\"><pre>SVC()</pre><b>In a Jupyter environment, please rerun this cell to show the HTML representation or trust the notebook. <br />On GitHub, the HTML representation is unable to render, please try loading this page with nbviewer.org.</b></div><div class=\"sk-container\" hidden><div class=\"sk-item\"><div class=\"sk-estimator sk-toggleable\"><input class=\"sk-toggleable__control sk-hidden--visually\" id=\"sk-estimator-id-1\" type=\"checkbox\" checked><label for=\"sk-estimator-id-1\" class=\"sk-toggleable__label sk-toggleable__label-arrow\">SVC</label><div class=\"sk-toggleable__content\"><pre>SVC()</pre></div></div></div></div></div>"
      ],
      "text/plain": [
       "SVC()"
      ]
     },
     "execution_count": 10,
     "metadata": {},
     "output_type": "execute_result"
    }
   ],
   "source": [
    "# Train models\n",
    "naive_bayes.fit(X_train, y_train)\n",
    "random_forest.fit(X_train, y_train)\n",
    "decision_tree.fit(X_train, y_train)\n",
    "logistic_regression.fit(X_train, y_train)\n",
    "xgboost_model.fit(X_train, y_train)\n",
    "svm_model.fit(X_train, y_train)"
   ]
  },
  {
   "cell_type": "code",
   "execution_count": 11,
   "id": "3e23f7b1",
   "metadata": {},
   "outputs": [],
   "source": [
    "# Make predictions\n",
    "nb_pred = naive_bayes.predict(X_test)\n",
    "rf_pred = random_forest.predict(X_test)\n",
    "dt_pred = decision_tree.predict(X_test)\n",
    "lr_pred = logistic_regression.predict(X_test)\n",
    "xgb_pred = xgboost_model.predict(X_test)\n",
    "svm_pred = svm_model.predict(X_test)"
   ]
  },
  {
   "cell_type": "code",
   "execution_count": 12,
   "id": "3b335c11",
   "metadata": {},
   "outputs": [
    {
     "name": "stdout",
     "output_type": "stream",
     "text": [
      "Naive Bayes Accuracy: 0.9954545454545455\n",
      "Random Forest Accuracy: 0.9931818181818182\n",
      "Decision Tree Accuracy: 0.9840909090909091\n",
      "Logistic Regression Accuracy: 0.9454545454545454\n",
      "XGBoost Accuracy: 0.9863636363636363\n",
      "SVM Accuracy: 0.9613636363636363\n"
     ]
    }
   ],
   "source": [
    "# Evaluate accuracy\n",
    "nb_accuracy = accuracy_score(y_test, nb_pred)\n",
    "rf_accuracy = accuracy_score(y_test, rf_pred)\n",
    "dt_accuracy = accuracy_score(y_test, dt_pred)\n",
    "lr_accuracy = accuracy_score(y_test, lr_pred)\n",
    "xgb_accuracy = accuracy_score(y_test, xgb_pred)\n",
    "svm_accuracy = accuracy_score(y_test, svm_pred)\n",
    "\n",
    "# Display accuracy results\n",
    "print(f'Naive Bayes Accuracy: {nb_accuracy}')\n",
    "print(f'Random Forest Accuracy: {rf_accuracy}')\n",
    "print(f'Decision Tree Accuracy: {dt_accuracy}')\n",
    "print(f'Logistic Regression Accuracy: {lr_accuracy}')\n",
    "print(f'XGBoost Accuracy: {xgb_accuracy}')\n",
    "print(f'SVM Accuracy: {svm_accuracy}')"
   ]
  },
  {
   "cell_type": "code",
   "execution_count": 13,
   "id": "1631b691",
   "metadata": {},
   "outputs": [
    {
     "data": {
      "image/png": "[encoded data removed]",
      "text/plain": [
       "<Figure size 640x480 with 1 Axes>"
      ]
     },
     "metadata": {},
     "output_type": "display_data"
    }
   ],
   "source": [
    "# Visualize accuracy\n",
    "models = ['Naive Bayes', 'Random Forest', 'Decision Tree', 'Logistic Regression', 'XGBoost', 'SVM']\n",
    "accuracies = [nb_accuracy, rf_accuracy, dt_accuracy, lr_accuracy, xgb_accuracy, svm_accuracy]\n",
    "\n",
    "plt.bar(models, accuracies, color=['blue', 'green', 'red', 'purple', 'orange', 'brown'])\n",
    "plt.xlabel('Machine Learning Models')\n",
    "plt.ylabel('Accuracy')\n",
    "plt.title('Accuracy of Different ML Models')\n",
    "plt.ylim(0, 1)\n",
    "plt.show()"
   ]
  },
  {
   "cell_type": "code",
   "execution_count": 14,
   "id": "ab840b2c",
   "metadata": {},
   "outputs": [],
   "source": [
    "# Save models to pickle files\n",
    "pickle.dump(naive_bayes, open('naive_bayes_model.pkl', 'wb'))\n",
    "pickle.dump(random_forest, open('random_forest_model.pkl', 'wb'))\n",
    "pickle.dump(label_encoder, open('label_encoder.pkl', 'wb'))"
   ]
  },
  {
   "cell_type": "code",
   "execution_count": 15,
   "id": "9e14eb13",
   "metadata": {},
   "outputs": [],
   "source": [
    "# Test the saved models\n",
    "loaded_nb_model = pickle.load(open('naive_bayes_model.pkl', 'rb'))\n",
    "loaded_rf_model = pickle.load(open('random_forest_model.pkl', 'rb'))"
   ]
  },
  {
   "cell_type": "code",
   "execution_count": 16,
   "id": "37937a95",
   "metadata": {},
   "outputs": [],
   "source": [
    "input_data = {\n",
    "    'N': [133],\n",
    "    'P': [47],\n",
    "    'K': [35],\n",
    "    'temperature': [20.879],\n",
    "    'humidity': [70.002],\n",
    "    'ph': [4.502],\n",
    "    'rainfall': [90.9355]\n",
    "}\n",
    "\n",
    "# Convert the dictionary to a DataFrame\n",
    "test_data = pd.DataFrame(input_data)"
   ]
  },
  {
   "cell_type": "code",
   "execution_count": 17,
   "id": "ca7cf6b4",
   "metadata": {},
   "outputs": [],
   "source": [
    "nb_prediction=loaded_nb_model.predict(test_data)"
   ]
  },
  {
   "cell_type": "code",
   "execution_count": 18,
   "id": "c386499d",
   "metadata": {},
   "outputs": [
    {
     "name": "stdout",
     "output_type": "stream",
     "text": [
      "Naive Bayes Prediction: cotton\n"
     ]
    }
   ],
   "source": [
    "print(f'Naive Bayes Prediction: {label_encoder.inverse_transform(nb_prediction)[0]}')"
   ]
  },
  {
   "cell_type": "code",
   "execution_count": null,
   "id": "0358e17d",
   "metadata": {},
   "outputs": [
    {
     "name": "stdout",
     "output_type": "stream",
     "text": [
      " * Serving Flask app '__main__'\n",
      " * Debug mode: off\n"
     ]
    },
    {
     "name": "stderr",
     "output_type": "stream",
     "text": [
      "WARNING: This is a development server. Do not use it in a production deployment. Use a production WSGI server instead.\n",
      " * Running on all addresses (0.0.0.0)\n",
      " * Running on http://127.0.0.1:5000\n",
      " * Running on http://192.168.1.190:5000\n",
      "Press CTRL+C to quit\n",
      "127.0.0.1 - - [29/Dec/2023 16:27:03] \"GET / HTTP/1.1\" 404 -\n",
      "192.168.1.190 - - [29/Dec/2023 16:27:07] \"GET / HTTP/1.1\" 404 -\n",
      "192.168.1.190 - - [29/Dec/2023 16:27:07] \"GET /favicon.ico HTTP/1.1\" 404 -\n"
     ]
    }
   ],
   "source": [
    "from flask import Flask, request, jsonify\n",
    "import pandas as pd\n",
    "import pickle\n",
    "\n",
    "app = Flask(__name__)\n",
    "\n",
    "# Load the Naive Bayes model and label encoder\n",
    "naive_bayes_model = pickle.load(open('naive_bayes_model.pkl', 'rb'))\n",
    "label_encoder = pickle.load(open('label_encoder.pkl', 'rb'))\n",
    "\n",
    "# Endpoint to receive input data and make predictions using Naive Bayes\n",
    "@app.route('/predict_nb', methods=['POST'])\n",
    "def predict_naive_bayes():\n",
    "    try:\n",
    "        # Get input data from the request\n",
    "        input_data = request.get_json()\n",
    "\n",
    "        # Convert input data to a DataFrame\n",
    "        input_df = pd.DataFrame(input_data)\n",
    "\n",
    "        # Make predictions using the Naive Bayes model\n",
    "        nb_prediction = naive_bayes_model.predict(input_df)\n",
    "\n",
    "        # Convert the prediction to a label\n",
    "        label = label_encoder.inverse_transform(nb_prediction)[0]\n",
    "\n",
    "        # Return the prediction as JSON\n",
    "        return jsonify({'prediction': label})\n",
    "\n",
    "    except Exception as e:\n",
    "        return jsonify({'error': str(e)})\n",
    "\n",
    "if __name__ == '__main__':\n",
    "    app.run(host='0.0.0.0', port=5000, debug=False)\n"
   ]
  },
  {
   "cell_type": "code",
   "execution_count": null,
   "id": "ce400cd6",
   "metadata": {},
   "outputs": [],
   "source": []
  }
 ],
 "metadata": {
  "kernelspec": {
   "display_name": "Python 3 (ipykernel)",
   "language": "python",
   "name": "python3"
  },
  "language_info": {
   "codemirror_mode": {
    "name": "ipython",
    "version": 3
   },
   "file_extension": ".py",
   "mimetype": "text/x-python",
   "name": "python",
   "nbconvert_exporter": "python",
   "pygments_lexer": "ipython3",
   "version": "3.11.4"
  }
 },
 "nbformat": 4,
 "nbformat_minor": 5
}
